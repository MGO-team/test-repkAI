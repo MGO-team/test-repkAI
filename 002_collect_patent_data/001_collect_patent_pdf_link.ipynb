{
 "cells": [
  {
   "cell_type": "code",
   "execution_count": 9,
   "id": "f6364ed7",
   "metadata": {},
   "outputs": [],
   "source": [
    "import time\n",
    "import random\n",
    "\n",
    "from pathlib import Path\n",
    "\n",
    "import pandas as pd\n",
    "\n",
    "from collect_patent_data import get_pdf_link, download_pdf"
   ]
  },
  {
   "cell_type": "code",
   "execution_count": 10,
   "id": "73c8fc56",
   "metadata": {},
   "outputs": [],
   "source": [
    "FOLDER = Path(\n",
    "    \"collect_patent_data_checkpoints\"\n",
    ")\n",
    "PATENT_PDFS_FOLDER = Path(FOLDER, \"patent_pdfs\")\n",
    "PATENT_PDFS_FOLDER.mkdir(exist_ok=True)"
   ]
  },
  {
   "cell_type": "code",
   "execution_count": 3,
   "id": "a732797c",
   "metadata": {},
   "outputs": [],
   "source": [
    "df = pd.read_csv(\"../001_preprocessing/preprocessing_checkpoints/comp_with_patent_info.tsv\", sep=\"\\t\")"
   ]
  },
  {
   "cell_type": "code",
   "execution_count": null,
   "id": "0f7c4a0d",
   "metadata": {},
   "outputs": [],
   "source": [
    "link_mapping_list = []\n",
    "\n",
    "for patent_number in df[\"patent_number\"].unique():\n",
    "    pdf_link = get_pdf_link(patent_number)\n",
    "    link_mapping_list.append({\"patent_number\": patent_number, \"pdf_link\": pdf_link})\n",
    "    time.sleep(random.uniform(0, 1))\n"
   ]
  },
  {
   "cell_type": "code",
   "execution_count": null,
   "id": "3c175c2b",
   "metadata": {},
   "outputs": [],
   "source": [
    "links_to_pdf = pd.DataFrame(link_mapping_list)"
   ]
  },
  {
   "cell_type": "code",
   "execution_count": null,
   "id": "6b585c3d",
   "metadata": {},
   "outputs": [],
   "source": [
    "links_to_pdf.to_csv(\n",
    "    Path(FOLDER, \"links_to_pdf.tsv\"), sep=\"\\t\", index=False\n",
    ")\n"
   ]
  },
  {
   "cell_type": "code",
   "execution_count": 4,
   "id": "5054f64b",
   "metadata": {},
   "outputs": [],
   "source": [
    "links_to_pdf = pd.read_csv(\"collect_patent_data_checkpoints/links_to_pdf.tsv\", sep=\"\\t\")\n"
   ]
  },
  {
   "cell_type": "code",
   "execution_count": 5,
   "id": "250fd034",
   "metadata": {},
   "outputs": [],
   "source": [
    "flattened_links_to_pdf = links_to_pdf.to_dict(orient=\"index\")\n",
    "link_mapping_list = [d for d in flattened_links_to_pdf.values()]"
   ]
  },
  {
   "cell_type": "code",
   "execution_count": null,
   "id": "3a939d2e",
   "metadata": {},
   "outputs": [
    {
     "name": "stdout",
     "output_type": "stream",
     "text": [
      "success\n",
      "{'error': InvalidSchema('No connection adapters were found for \"{\\'error\\': \\'pdf_url not found\\'}\"')}\n",
      "success\n",
      "{'error': InvalidSchema('No connection adapters were found for \"{\\'error\\': \\'pdf_url not found\\'}\"')}\n",
      "success\n",
      "{'error': InvalidSchema('No connection adapters were found for \"{\\'error\\': \\'pdf_url not found\\'}\"')}\n",
      "success\n",
      "success\n",
      "success\n",
      "success\n",
      "success\n",
      "{'error': InvalidSchema('No connection adapters were found for \"{\\'error\\': \\'pdf_url not found\\'}\"')}\n",
      "{'error': InvalidSchema('No connection adapters were found for \"{\\'error\\': \\'pdf_url not found\\'}\"')}\n",
      "success\n",
      "success\n",
      "success\n",
      "success\n",
      "success\n",
      "{'error': InvalidSchema('No connection adapters were found for \"{\\'error\\': \\'pdf_url not found\\'}\"')}\n",
      "success\n",
      "success\n",
      "{'error': InvalidSchema('No connection adapters were found for \"{\\'error\\': \\'pdf_url not found\\'}\"')}\n",
      "success\n",
      "success\n",
      "success\n",
      "success\n",
      "success\n",
      "success\n",
      "{'error': InvalidSchema('No connection adapters were found for \"{\\'error\\': \\'pdf_url not found\\'}\"')}\n",
      "success\n",
      "success\n",
      "success\n",
      "success\n",
      "success\n",
      "success\n",
      "success\n",
      "success\n",
      "success\n",
      "success\n",
      "success\n"
     ]
    }
   ],
   "source": [
    "link_download_list = []\n",
    "\n",
    "for link_data in link_mapping_list:\n",
    "    link = link_data[\"pdf_link\"]\n",
    "    patent_number = link_data[\"patent_number\"]\n",
    "    download_status = download_pdf(link, PATENT_PDFS_FOLDER)\n",
    "\n",
    "    if \"error\" in link:\n",
    "        link_download_list.append(\n",
    "            {\n",
    "                \"patent_number\": patent_number,\n",
    "                \"pdf_link\": link,\n",
    "                \"download_status\": '{\"error\": \"pdf_url not found\"}',\n",
    "            }\n",
    "        )\n",
    "    else:\n",
    "        link_download_list.append(\n",
    "            {\n",
    "                \"patent_number\": patent_number,\n",
    "                \"pdf_link\": link,\n",
    "                \"download_status\": download_status,\n",
    "            }\n",
    "        )\n",
    "    time.sleep(random.uniform(2, 3))"
   ]
  },
  {
   "cell_type": "code",
   "execution_count": 14,
   "id": "d2f55eee",
   "metadata": {},
   "outputs": [],
   "source": [
    "links_to_pdf_with_download_status = pd.DataFrame(link_download_list)\n",
    "links_to_pdf_with_download_status.to_csv(\n",
    "    Path(FOLDER, \"links_to_pdf_with_download_status.tsv\"), sep=\"\\t\", index=False\n",
    ")\n"
   ]
  },
  {
   "cell_type": "code",
   "execution_count": null,
   "id": "ee107302",
   "metadata": {},
   "outputs": [],
   "source": []
  }
 ],
 "metadata": {
  "kernelspec": {
   "display_name": "patent_parser2",
   "language": "python",
   "name": "python3"
  },
  "language_info": {
   "codemirror_mode": {
    "name": "ipython",
    "version": 3
   },
   "file_extension": ".py",
   "mimetype": "text/x-python",
   "name": "python",
   "nbconvert_exporter": "python",
   "pygments_lexer": "ipython3",
   "version": "3.13.5"
  }
 },
 "nbformat": 4,
 "nbformat_minor": 5
}
