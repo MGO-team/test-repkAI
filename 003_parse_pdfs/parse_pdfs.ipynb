{
 "cells": [
  {
   "cell_type": "code",
   "execution_count": 1,
   "id": "0df35cae",
   "metadata": {},
   "outputs": [],
   "source": [
    "from parse_pdfs import parse_pdfs_in_dir"
   ]
  },
  {
   "cell_type": "code",
   "execution_count": 2,
   "id": "bbffd8b2",
   "metadata": {},
   "outputs": [],
   "source": [
    "patents = parse_pdfs_in_dir(\n",
    "    \"/home/alex/dev/test-repkAI/data/checkpoints_random_123/patent_pdfs\"\n",
    ")"
   ]
  },
  {
   "cell_type": "code",
   "execution_count": 3,
   "id": "a00328d2",
   "metadata": {},
   "outputs": [
    {
     "data": {
      "text/plain": [
       "[Patent(name='WO2005110354A1.pdf', country='WO', local_path=PosixPath('/home/alex/dev/test-repkAI/data/checkpoints_random_123/patent_pdfs/WO2005110354A1.pdf'), full_text_len=34, chunk_size=10000, chunk_overlaps=3),\n",
       " Patent(name='WO2010151476A2.pdf', country='WO', local_path=PosixPath('/home/alex/dev/test-repkAI/data/checkpoints_random_123/patent_pdfs/WO2010151476A2.pdf'), full_text_len=62, chunk_size=10000, chunk_overlaps=3),\n",
       " Patent(name='US7994128.pdf', country='US', local_path=PosixPath('/home/alex/dev/test-repkAI/data/checkpoints_random_123/patent_pdfs/US7994128.pdf'), full_text_len=74242, chunk_size=10000, chunk_overlaps=3),\n",
       " Patent(name='WO2001068119A1.pdf', country='WO', local_path=PosixPath('/home/alex/dev/test-repkAI/data/checkpoints_random_123/patent_pdfs/WO2001068119A1.pdf'), full_text_len=49, chunk_size=10000, chunk_overlaps=3),\n",
       " Patent(name='US20080064701A1.pdf', country='US', local_path=PosixPath('/home/alex/dev/test-repkAI/data/checkpoints_random_123/patent_pdfs/US20080064701A1.pdf'), full_text_len=67445, chunk_size=10000, chunk_overlaps=3),\n",
       " Patent(name='WO2010105257A2.pdf', country='WO', local_path=PosixPath('/home/alex/dev/test-repkAI/data/checkpoints_random_123/patent_pdfs/WO2010105257A2.pdf'), full_text_len=43, chunk_size=10000, chunk_overlaps=3),\n",
       " Patent(name='JP2005162704A.pdf', country='JP', local_path=PosixPath('/home/alex/dev/test-repkAI/data/checkpoints_random_123/patent_pdfs/JP2005162704A.pdf'), full_text_len=10910, chunk_size=10000, chunk_overlaps=3),\n",
       " Patent(name='US20110190309A1.pdf', country='US', local_path=PosixPath('/home/alex/dev/test-repkAI/data/checkpoints_random_123/patent_pdfs/US20110190309A1.pdf'), full_text_len=167766, chunk_size=10000, chunk_overlaps=3),\n",
       " Patent(name='WO2005113019A2.pdf', country='WO', local_path=PosixPath('/home/alex/dev/test-repkAI/data/checkpoints_random_123/patent_pdfs/WO2005113019A2.pdf'), full_text_len=24, chunk_size=10000, chunk_overlaps=3),\n",
       " Patent(name='US20130011487A1.pdf', country='US', local_path=PosixPath('/home/alex/dev/test-repkAI/data/checkpoints_random_123/patent_pdfs/US20130011487A1.pdf'), full_text_len=45455, chunk_size=10000, chunk_overlaps=3),\n",
       " Patent(name='US7998967.pdf', country='US', local_path=PosixPath('/home/alex/dev/test-repkAI/data/checkpoints_random_123/patent_pdfs/US7998967.pdf'), full_text_len=169132, chunk_size=10000, chunk_overlaps=3),\n",
       " Patent(name='EP1946788B1.pdf', country='EP', local_path=PosixPath('/home/alex/dev/test-repkAI/data/checkpoints_random_123/patent_pdfs/EP1946788B1.pdf'), full_text_len=44317, chunk_size=10000, chunk_overlaps=3),\n",
       " Patent(name='WO2004104015A3.pdf', country='WO', local_path=PosixPath('/home/alex/dev/test-repkAI/data/checkpoints_random_123/patent_pdfs/WO2004104015A3.pdf'), full_text_len=5, chunk_size=10000, chunk_overlaps=3),\n",
       " Patent(name='WO2011091033A1.pdf', country='WO', local_path=PosixPath('/home/alex/dev/test-repkAI/data/checkpoints_random_123/patent_pdfs/WO2011091033A1.pdf'), full_text_len=185, chunk_size=10000, chunk_overlaps=3),\n",
       " Patent(name='US20100178370A1.pdf', country='US', local_path=PosixPath('/home/alex/dev/test-repkAI/data/checkpoints_random_123/patent_pdfs/US20100178370A1.pdf'), full_text_len=35366, chunk_size=10000, chunk_overlaps=3),\n",
       " Patent(name='US20080004239A1.pdf', country='US', local_path=PosixPath('/home/alex/dev/test-repkAI/data/checkpoints_random_123/patent_pdfs/US20080004239A1.pdf'), full_text_len=30079, chunk_size=10000, chunk_overlaps=3),\n",
       " Patent(name='WO2011022633A3.pdf', country='WO', local_path=PosixPath('/home/alex/dev/test-repkAI/data/checkpoints_random_123/patent_pdfs/WO2011022633A3.pdf'), full_text_len=4, chunk_size=10000, chunk_overlaps=3),\n",
       " Patent(name='WO2010083307A2.pdf', country='WO', local_path=PosixPath('/home/alex/dev/test-repkAI/data/checkpoints_random_123/patent_pdfs/WO2010083307A2.pdf'), full_text_len=218, chunk_size=10000, chunk_overlaps=3),\n",
       " Patent(name='US20110189196A1.pdf', country='US', local_path=PosixPath('/home/alex/dev/test-repkAI/data/checkpoints_random_123/patent_pdfs/US20110189196A1.pdf'), full_text_len=167519, chunk_size=10000, chunk_overlaps=3),\n",
       " Patent(name='US20040005570A1.pdf', country='US', local_path=PosixPath('/home/alex/dev/test-repkAI/data/checkpoints_random_123/patent_pdfs/US20040005570A1.pdf'), full_text_len=255758, chunk_size=10000, chunk_overlaps=3),\n",
       " Patent(name='US20080319013A1.pdf', country='US', local_path=PosixPath('/home/alex/dev/test-repkAI/data/checkpoints_random_123/patent_pdfs/US20080319013A1.pdf'), full_text_len=240475, chunk_size=10000, chunk_overlaps=3),\n",
       " Patent(name='WO2010065951A1.pdf', country='WO', local_path=PosixPath('/home/alex/dev/test-repkAI/data/checkpoints_random_123/patent_pdfs/WO2010065951A1.pdf'), full_text_len=46, chunk_size=10000, chunk_overlaps=3),\n",
       " Patent(name='WO2010151653A2.pdf', country='WO', local_path=PosixPath('/home/alex/dev/test-repkAI/data/checkpoints_random_123/patent_pdfs/WO2010151653A2.pdf'), full_text_len=64, chunk_size=10000, chunk_overlaps=3),\n",
       " Patent(name='EP1968664B1.pdf', country='EP', local_path=PosixPath('/home/alex/dev/test-repkAI/data/checkpoints_random_123/patent_pdfs/EP1968664B1.pdf'), full_text_len=104656, chunk_size=10000, chunk_overlaps=3),\n",
       " Patent(name='US8008311.pdf', country='US', local_path=PosixPath('/home/alex/dev/test-repkAI/data/checkpoints_random_123/patent_pdfs/US8008311.pdf'), full_text_len=61691, chunk_size=10000, chunk_overlaps=3),\n",
       " Patent(name='WO2010135731A1.pdf', country='WO', local_path=PosixPath('/home/alex/dev/test-repkAI/data/checkpoints_random_123/patent_pdfs/WO2010135731A1.pdf'), full_text_len=44, chunk_size=10000, chunk_overlaps=3),\n",
       " Patent(name='EP1142865B1.pdf', country='EP', local_path=PosixPath('/home/alex/dev/test-repkAI/data/checkpoints_random_123/patent_pdfs/EP1142865B1.pdf'), full_text_len=37015, chunk_size=10000, chunk_overlaps=3),\n",
       " Patent(name='EP1910357B1.pdf', country='EP', local_path=PosixPath('/home/alex/dev/test-repkAI/data/checkpoints_random_123/patent_pdfs/EP1910357B1.pdf'), full_text_len=136005, chunk_size=10000, chunk_overlaps=3),\n",
       " Patent(name='US20040241821A1.pdf', country='US', local_path=PosixPath('/home/alex/dev/test-repkAI/data/checkpoints_random_123/patent_pdfs/US20040241821A1.pdf'), full_text_len=125848, chunk_size=10000, chunk_overlaps=3),\n",
       " Patent(name='EP0356382B1.pdf', country='EP', local_path=PosixPath('/home/alex/dev/test-repkAI/data/checkpoints_random_123/patent_pdfs/EP0356382B1.pdf'), full_text_len=59434, chunk_size=10000, chunk_overlaps=3),\n",
       " Patent(name='WO2010149761A1.pdf', country='WO', local_path=PosixPath('/home/alex/dev/test-repkAI/data/checkpoints_random_123/patent_pdfs/WO2010149761A1.pdf'), full_text_len=57, chunk_size=10000, chunk_overlaps=3),\n",
       " Patent(name='US20080107746A1.pdf', country='US', local_path=PosixPath('/home/alex/dev/test-repkAI/data/checkpoints_random_123/patent_pdfs/US20080107746A1.pdf'), full_text_len=10243, chunk_size=10000, chunk_overlaps=3),\n",
       " Patent(name='WO2005089708A1.pdf', country='WO', local_path=PosixPath('/home/alex/dev/test-repkAI/data/checkpoints_random_123/patent_pdfs/WO2005089708A1.pdf'), full_text_len=47, chunk_size=10000, chunk_overlaps=3),\n",
       " Patent(name='EP2233141A1.pdf', country='EP', local_path=PosixPath('/home/alex/dev/test-repkAI/data/checkpoints_random_123/patent_pdfs/EP2233141A1.pdf'), full_text_len=59201, chunk_size=10000, chunk_overlaps=3),\n",
       " Patent(name='WO2010132175A2.pdf', country='WO', local_path=PosixPath('/home/alex/dev/test-repkAI/data/checkpoints_random_123/patent_pdfs/WO2010132175A2.pdf'), full_text_len=16, chunk_size=10000, chunk_overlaps=3),\n",
       " Patent(name='US20110189169A1.pdf', country='US', local_path=PosixPath('/home/alex/dev/test-repkAI/data/checkpoints_random_123/patent_pdfs/US20110189169A1.pdf'), full_text_len=87367, chunk_size=10000, chunk_overlaps=3),\n",
       " Patent(name='JP2009185051A.pdf', country='JP', local_path=PosixPath('/home/alex/dev/test-repkAI/data/checkpoints_random_123/patent_pdfs/JP2009185051A.pdf'), full_text_len=33331, chunk_size=10000, chunk_overlaps=3),\n",
       " Patent(name='US20110195029A1.pdf', country='US', local_path=PosixPath('/home/alex/dev/test-repkAI/data/checkpoints_random_123/patent_pdfs/US20110195029A1.pdf'), full_text_len=56271, chunk_size=10000, chunk_overlaps=3),\n",
       " Patent(name='WO2010013015A2.pdf', country='WO', local_path=PosixPath('/home/alex/dev/test-repkAI/data/checkpoints_random_123/patent_pdfs/WO2010013015A2.pdf'), full_text_len=59, chunk_size=10000, chunk_overlaps=3),\n",
       " Patent(name='EP1549957B1.pdf', country='EP', local_path=PosixPath('/home/alex/dev/test-repkAI/data/checkpoints_random_123/patent_pdfs/EP1549957B1.pdf'), full_text_len=71052, chunk_size=10000, chunk_overlaps=3),\n",
       " Patent(name='WO2003033652A2.pdf', country='WO', local_path=PosixPath('/home/alex/dev/test-repkAI/data/checkpoints_random_123/patent_pdfs/WO2003033652A2.pdf'), full_text_len=131, chunk_size=10000, chunk_overlaps=3),\n",
       " Patent(name='US20080311146A1.pdf', country='US', local_path=PosixPath('/home/alex/dev/test-repkAI/data/checkpoints_random_123/patent_pdfs/US20080311146A1.pdf'), full_text_len=109918, chunk_size=10000, chunk_overlaps=3),\n",
       " Patent(name='US20130005653A1.pdf', country='US', local_path=PosixPath('/home/alex/dev/test-repkAI/data/checkpoints_random_123/patent_pdfs/US20130005653A1.pdf'), full_text_len=219319, chunk_size=10000, chunk_overlaps=3),\n",
       " Patent(name='US20080292715A1.pdf', country='US', local_path=PosixPath('/home/alex/dev/test-repkAI/data/checkpoints_random_123/patent_pdfs/US20080292715A1.pdf'), full_text_len=79026, chunk_size=10000, chunk_overlaps=3),\n",
       " Patent(name='EP1382342A1.pdf', country='EP', local_path=PosixPath('/home/alex/dev/test-repkAI/data/checkpoints_random_123/patent_pdfs/EP1382342A1.pdf'), full_text_len=58282, chunk_size=10000, chunk_overlaps=3),\n",
       " Patent(name='WO2005081632A2.pdf', country='WO', local_path=PosixPath('/home/alex/dev/test-repkAI/data/checkpoints_random_123/patent_pdfs/WO2005081632A2.pdf'), full_text_len=70, chunk_size=10000, chunk_overlaps=3)]"
      ]
     },
     "execution_count": 3,
     "metadata": {},
     "output_type": "execute_result"
    }
   ],
   "source": [
    "patents"
   ]
  },
  {
   "cell_type": "code",
   "execution_count": null,
   "id": "95fd38ed",
   "metadata": {},
   "outputs": [],
   "source": []
  }
 ],
 "metadata": {
  "kernelspec": {
   "display_name": "patent_parser2",
   "language": "python",
   "name": "python3"
  },
  "language_info": {
   "codemirror_mode": {
    "name": "ipython",
    "version": 3
   },
   "file_extension": ".py",
   "mimetype": "text/x-python",
   "name": "python",
   "nbconvert_exporter": "python",
   "pygments_lexer": "ipython3",
   "version": "3.13.5"
  }
 },
 "nbformat": 4,
 "nbformat_minor": 5
}
